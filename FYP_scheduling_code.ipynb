{
  "nbformat": 4,
  "nbformat_minor": 0,
  "metadata": {
    "colab": {
      "provenance": []
    },
    "kernelspec": {
      "name": "python3",
      "display_name": "Python 3"
    },
    "language_info": {
      "name": "python"
    }
  },
  "cells": [
    {
      "cell_type": "code",
      "execution_count": null,
      "metadata": {
        "colab": {
          "base_uri": "https://localhost:8080/"
        },
        "id": "-7_gtms23EKS",
        "outputId": "dcdb1256-7d0a-43ae-ca9f-dd8467284bd1"
      },
      "outputs": [
        {
          "output_type": "stream",
          "name": "stdout",
          "text": [
            "    arrival  departure  kWhDelivered VehicleArrivalTime VehicleDepatureTime  \\\n",
            "0  6.273492  13.856324     22.426138           06:16:25            13:51:23   \n",
            "1  6.283394   8.536122      7.393929           06:17:00            08:32:10   \n",
            "2  6.356454  10.149326     11.139155           06:21:23            10:08:58   \n",
            "3  6.472603  17.907040     29.183873           06:28:21            17:54:25   \n",
            "4  6.503574  10.424525     11.796478           06:30:13            10:25:28   \n",
            "\n",
            "  Time Required at 3kW Time Required at 7kW Time Required at 11kW  \n",
            "0             07:28:31             03:12:13              02:02:19  \n",
            "1             02:27:53             01:03:23              00:40:20  \n",
            "2             03:42:47             01:35:29              01:00:46  \n",
            "3             09:43:41             04:10:09              02:39:11  \n",
            "4             03:55:56             01:41:07              01:04:21  \n"
          ]
        }
      ],
      "source": [
        "import os\n",
        "import pandas as pd\n",
        "import stat\n",
        "\n",
        "file_name = \"/content/test_synthesize_77.xlsx\"\n",
        "df = pd.read_excel(io=file_name)\n",
        "print(df.head(5))"
      ]
    },
    {
      "cell_type": "code",
      "source": [
        "def find_min_sum_indexes(k_list, n):\n",
        "  \n",
        "    # Find the n smallest variables in the list\n",
        "    n_smallest = sorted(k_list)[:n]\n",
        "        \n",
        "    # Find the indices of the n smallest variables in the original list\n",
        "    ind = []\n",
        "    for i in n_smallest:\n",
        "      ind.append(k_list.index(i))\n",
        "      k_list[k_list.index(i)] = 0\n",
        "    \n",
        "    return sorted(ind)"
      ],
      "metadata": {
        "id": "oAIxY6gxoYWV"
      },
      "execution_count": null,
      "outputs": []
    },
    {
      "cell_type": "markdown",
      "source": [
        "### **Single kW** "
      ],
      "metadata": {
        "id": "f8LvyBe13WZP"
      }
    },
    {
      "cell_type": "code",
      "source": [
        "from datetime import datetime       #Conversion of data from time format to slot format\n",
        "\n",
        "data_new = {}\n",
        "for i in range(len(df)):\n",
        "  at = datetime.strptime(df['VehicleArrivalTime'][i], '%H:%M:%S').time() \n",
        "  dt = datetime.strptime(df['VehicleDepatureTime'][i], '%H:%M:%S').time()\n",
        "  ctime =  datetime.strptime(df['Time Required at 3kW'][i], '%H:%M:%S').time()\n",
        "  #Arrival\n",
        "  temp = (at.minute)%5\n",
        "  if temp == 0:\n",
        "    temp_arr = at.minute\n",
        "  else:\n",
        "    temp_arr =at.minute+5-temp\n",
        "  arrival_slot = (at.hour)*12 + (temp_arr/5)\n",
        "  #Departure\n",
        "  temp1 = (dt.minute)%5\n",
        "  temp_dep = dt.minute-temp1\n",
        "  dept_slot = (dt.hour)*12 + (temp_dep/5)\n",
        "  #Charging_duration\n",
        "  temp3 = (ctime.minute)%5\n",
        "  temp_cd = ctime.minute-temp3\n",
        "  cd_slot = (ctime.hour)*12 + (temp_cd/5)\n",
        "  #Create_dict\n",
        "  data_new[i+1] = {'at':int(arrival_slot),'dt':int(dept_slot),'cd':int(cd_slot)}"
      ],
      "metadata": {
        "id": "N91fEih2DXJb"
      },
      "execution_count": null,
      "outputs": []
    },
    {
      "cell_type": "markdown",
      "source": [
        "Controlled, without PV"
      ],
      "metadata": {
        "id": "hm0qxCSi4xfV"
      }
    },
    {
      "cell_type": "code",
      "source": [
        "tariff = {0:0.06,1:0.06,2:0.06,3:0.06,4:0.06,5:0.06,6:0.06,7:0.25,8:0.25,9:0.09,10:0.09,11:0.09,12:0.09,13:0.09,14:0.09,15:0.09,16:0.09,17:0.25,18:0.25,19:0.25,20:0.09,21:0.09,22:0.06,23:0.06}\n",
        "\n",
        "min_slot = {}\n",
        "\n",
        "rate = 3\n",
        "\n",
        "cost_per_slot = [] \n",
        "\n",
        "for k,v in tariff.items():\n",
        "  temp = [round((v * rate)/12,5)]*12\n",
        "  cost_per_slot += temp\n",
        "cost_per_slot = cost_per_slot*2 \n",
        "\n",
        "for i in data_new:\n",
        "    if data_new[i]['dt'] < data_new[i]['at']:\n",
        "      dt = data_new[i]['dt'] + 288\n",
        "    else:\n",
        "      dt = data_new[i]['dt']\n",
        "\n",
        "    slots = dt - data_new[i]['at']\n",
        "    cd = data_new[i]['cd']\n",
        "    slot_tariff = []\n",
        "\n",
        "    for j in range(data_new[i]['at'], dt):\n",
        "      slot_tariff.append(cost_per_slot[j])\n",
        "          \n",
        "    if cd >= slots:\n",
        "      min_slot[i] = [x + data_new[i]['at'] for x in range(len(slot_tariff))]\n",
        "    else: \n",
        "      min = find_min_sum_indexes(slot_tariff, cd)\n",
        "      min_slot[i] = [x + data_new[i]['at'] for x in min]\n",
        "\n",
        "\n"
      ],
      "metadata": {
        "id": "wUAAo04W3hxq"
      },
      "execution_count": null,
      "outputs": []
    },
    {
      "cell_type": "code",
      "source": [
        "from datetime import datetime           #Conversion of data from slot format to time format\n",
        "final_min_slot = {}\n",
        "\n",
        "#Convert all slot into minutes\n",
        "for k,v in min_slot.items():\n",
        "  time_v = [x*5 for x in v]\n",
        "  datetime_v = []\n",
        "  for i in time_v:\n",
        "    hour = int(i/60)\n",
        "    min = i%60\n",
        "    if hour>=24:\n",
        "      hour = hour - 24\n",
        "      input_str = '21/06/19 ' + str(hour) + ':' + str(min) + ':00'\n",
        "      dt_object = datetime.strptime(input_str, '%d/%m/%y %H:%M:%S')\n",
        "    else:\n",
        "      input_str = '20/06/19 ' + str(hour) + ':' + str(min) + ':00'\n",
        "      dt_object = datetime.strptime(input_str, '%d/%m/%y %H:%M:%S')\n",
        "    datetime_v.append(dt_object)\n",
        "  final_min_slot[k] = datetime_v"
      ],
      "metadata": {
        "id": "ak4w9DAR30Fs"
      },
      "execution_count": null,
      "outputs": []
    },
    {
      "cell_type": "code",
      "source": [
        "from datetime import datetime\n",
        "from datetime import timedelta\n",
        "\n",
        "input_str = '20/06/19 00:00:00'\n",
        "dt_object = datetime.strptime(input_str, '%d/%m/%y %H:%M:%S')\n",
        "n = 5\n",
        "timestamp = []\n",
        "for i in range(288):\n",
        "  final_time = dt_object + timedelta(minutes=i*n)\n",
        "  timestamp.append(final_time)"
      ],
      "metadata": {
        "id": "tEKxamTR32zR"
      },
      "execution_count": null,
      "outputs": []
    },
    {
      "cell_type": "code",
      "source": [
        "power_uc_wpv = [0]*len(timestamp)     #Calculation of power for uncontrolled charging\n",
        "\n",
        "vehicle = 16\n",
        "\n",
        "slots = data_new[vehicle]['dt'] - data_new[vehicle]['at']\n",
        "cd = data_new[vehicle]['cd']\n",
        "\n",
        "if slots > cd:\n",
        "  duration = cd\n",
        "else:\n",
        "  duration = slots\n",
        "\n",
        "\n",
        "for i in range(duration):\n",
        "  power_uc_wpv[data_new[vehicle]['at']+i] = 3"
      ],
      "metadata": {
        "id": "E47-SJYh5ZOi"
      },
      "execution_count": null,
      "outputs": []
    },
    {
      "cell_type": "code",
      "source": [
        "power_c_wpv = [0]*len(timestamp)       #Calculation of power for controlled without pv charging\n",
        "\n",
        "vehicle = 16\n",
        "\n",
        "for i in final_min_slot[vehicle]:\n",
        "  if i in timestamp:\n",
        "    index = timestamp.index(i)\n",
        "    power_c_wpv[index] = 3"
      ],
      "metadata": {
        "id": "DlazOtVw352D"
      },
      "execution_count": null,
      "outputs": []
    },
    {
      "cell_type": "code",
      "source": [
        "time = [x+1 for x in range(24)]\n",
        "\n",
        "import numpy as np\n",
        "import matplotlib.pyplot as plt\n",
        "\n",
        "# Generate sample data\n",
        "#x = np.array(timestamp)\n",
        "y = np.array(power_uc_wpv)\n",
        "\n",
        "# Aggregate data into groups of 12\n",
        "x_grouped = np.array(time)\n",
        "y_grouped = y.reshape(-1, 12).mean(axis=1)\n",
        "\n",
        "# Plot the grouped data\n",
        "plt.bar(x_grouped, y_grouped)\n",
        "\n",
        "# Set the x-axis tick labels to show only every 12th value\n",
        "plt.xticks(x_grouped[::2])\n",
        "plt.title(\"Uncontrolled\")\n",
        "\n",
        "# Show the plot\n",
        "plt.show()\n"
      ],
      "metadata": {
        "colab": {
          "base_uri": "https://localhost:8080/",
          "height": 452
        },
        "id": "MtwPIxiu5V9Z",
        "outputId": "fbf30984-63ed-48ac-928f-a731d90728fa"
      },
      "execution_count": null,
      "outputs": [
        {
          "output_type": "display_data",
          "data": {
            "text/plain": [
              "<Figure size 640x480 with 1 Axes>"
            ],
            "image/png": "[encoded data removed]"
          },
          "metadata": {}
        }
      ]
    },
    {
      "cell_type": "code",
      "source": [
        "import numpy as np\n",
        "import matplotlib.pyplot as plt\n",
        "\n",
        "# Generate sample data\n",
        "#x = np.array(timestamp)\n",
        "y = np.array(power_c_wpv)\n",
        "\n",
        "# Aggregate data into groups of 12\n",
        "x_grouped = np.array(time)\n",
        "y_grouped = y.reshape(-1, 12).mean(axis=1)\n",
        "\n",
        "# Plot the grouped data\n",
        "plt.bar(x_grouped, y_grouped)\n",
        "\n",
        "# Set the x-axis tick labels to show only every 12th value\n",
        "plt.xticks(x_grouped[::2])\n",
        "plt.title(\"Controlled without PV\")\n",
        "\n",
        "# Show the plot\n",
        "plt.show()"
      ],
      "metadata": {
        "colab": {
          "base_uri": "https://localhost:8080/",
          "height": 452
        },
        "id": "rzyuA89R5NSs",
        "outputId": "9f39f3a8-9f83-404f-aff7-2a0a9364fdf0"
      },
      "execution_count": null,
      "outputs": [
        {
          "output_type": "display_data",
          "data": {
            "text/plain": [
              "<Figure size 640x480 with 1 Axes>"
            ],
            "image/png": "[encoded data removed]"
          },
          "metadata": {}
        }
      ]
    },
    {
      "cell_type": "markdown",
      "source": [
        "Controlled, with pv"
      ],
      "metadata": {
        "id": "KKUPUpFc7Cex"
      }
    },
    {
      "cell_type": "code",
      "source": [
        "# pv_per_hour = {0:0,1:0,2:0,3:0,4:0,5:6.50280763909578,6:15.3312502104903,7:28.0144264428700,8:38.9874810784457,9:46.8373835321062,10:50.4159931388299,11:49.5073555784204,12:43.9171668686913,13:34.7703425648592,14:22.7830336117972,15:9.38161600811833,16:0,17:0,18:0,19:0,20:0,21:0,22:0,23:0}\n",
        "\n",
        "pv_per_hour = {0:0,1:0,2:0,3:0,4:0,5:4.6204,6:10.8933,7:19.9050,8:27.7016,9:33.2792,10:35.8219,11:35.1763,12:31.2043,13:24.7052,14:16.1879,15:6.6659,16:0,17:0,18:0,19:0,20:0,21:0,22:0,23:0}\n",
        "\n",
        "pv_per_slot = []\n",
        "lcoe_pv = 0.08\n",
        "lcoe_pv_slot = (lcoe_pv/12)*3\n",
        "\n",
        "tariff = {0:0.06,1:0.06,2:0.06,3:0.06,4:0.06,5:0.06,6:0.06,7:0.25,8:0.25,9:0.09,10:0.09,11:0.09,12:0.09,13:0.09,14:0.09,15:0.09,16:0.09,17:0.25,18:0.25,19:0.25,20:0.09,21:0.09,22:0.06,23:0.06}\n",
        "\n",
        "rate = 3\n",
        "\n",
        "cost_per_slot = [] # issue 1 - making it into 5 min slots\n",
        "\n",
        "for k,v in tariff.items():\n",
        "  temp = [round((v * rate)/12,5)]*12\n",
        "  cost_per_slot += temp\n",
        "cost_per_slot = cost_per_slot*2 # to also contain next day's data(issue 2 resolved)\n",
        "\n",
        "\n",
        "# for temp in range(2):\n",
        "for k,v in pv_per_hour.items():\n",
        "  temp = [v]*12\n",
        "  pv_per_slot += temp\n",
        "\n",
        "min_slot_c_pv = {}\n",
        "# slot_tariff_ev = []\n",
        "# slot_tariff_pv = []\n",
        "pv_used = {}\n",
        "\n",
        "\n",
        "for i in data_new:\n",
        "    if data_new[i]['dt'] < data_new[i]['at']:\n",
        "      dt = data_new[i]['dt'] + 288\n",
        "    else:\n",
        "      dt = data_new[i]['dt']\n",
        "\n",
        "    pv_used[i] = []\n",
        "    slots = dt - data_new[i]['at']\n",
        "    cd = data_new[i]['cd']\n",
        "    \n",
        "    cost_slots = []\n",
        "    index_chosen = [] # to identify pv slots out of entire one : 0 - ev; 1 - pv\n",
        "\n",
        "    for j in range(data_new[i]['at'], dt):\n",
        "      diff = 3 - pv_per_slot[j]\n",
        "      if diff > 0:\n",
        "        cost_slots.append(cost_per_slot[j])\n",
        "        index_chosen.append(0)\n",
        "      else:\n",
        "        if lcoe_pv_slot < cost_per_slot[j]:\n",
        "          cost_slots.append(lcoe_pv_slot)\n",
        "          index_chosen.append(1)\n",
        "        else:\n",
        "          cost_slots.append(cost_per_slot[j])\n",
        "          index_chosen.append(0)\n",
        "\n",
        "\n",
        "    if cd >= slots:\n",
        "      temp = [x + data_new[i]['at'] for x in range(len(cost_slots))]\n",
        "      \n",
        "      for j in range(len(index_chosen)):\n",
        "        if index_chosen[j] == 1:\n",
        "          pv_per_slot[j + data_new[i]['at']] -= 3\n",
        "          temp.remove(j + data_new[i]['at'])\n",
        "          pv_used[i].append(j + data_new[i]['at'])\n",
        "      \n",
        "      min_slot_c_pv[i] = temp\n",
        "      \n",
        "\n",
        "    else:\n",
        "      min = find_min_sum_indexes(cost_slots, cd)\n",
        "      temp = [x + data_new[i]['at'] for x in min]\n",
        "\n",
        "      for j in min:\n",
        "        if index_chosen[j] == 1:\n",
        "          pv_per_slot[j + data_new[i]['at']] -= 3\n",
        "          temp.remove(j + data_new[i]['at'])\n",
        "          pv_used[i].append(j + data_new[i]['at'])\n",
        "\n",
        "      min_slot_c_pv[i] = temp\n"
      ],
      "metadata": {
        "id": "JvDlbuu27B5x"
      },
      "execution_count": null,
      "outputs": []
    },
    {
      "cell_type": "code",
      "source": [
        "from datetime import datetime\n",
        "final_min_slot_c_pv = {}\n",
        "final_pv_used = {}\n",
        "\n",
        "#Convert all slot into minutes for min values\n",
        "for k,v in min_slot_c_pv.items():\n",
        "  time_v = [x*5 for x in v]\n",
        "  datetime_v = []\n",
        "  for i in time_v:\n",
        "    hour = int(i/60)\n",
        "    min = i%60\n",
        "    if hour>=24:\n",
        "      hour = hour - 24\n",
        "      input_str = '21/06/19 ' + str(hour) + ':' + str(min) + ':00'\n",
        "      dt_object = datetime.strptime(input_str, '%d/%m/%y %H:%M:%S')\n",
        "    else:\n",
        "      input_str = '20/06/19 ' + str(hour) + ':' + str(min) + ':00'\n",
        "      dt_object = datetime.strptime(input_str, '%d/%m/%y %H:%M:%S')\n",
        "    datetime_v.append(dt_object)\n",
        "  final_min_slot_c_pv[k] = datetime_v\n",
        "\n",
        "#Convert all slot into minutes for only pv values\n",
        "for k,v in pv_used.items():\n",
        "  time_v = [x*5 for x in v]\n",
        "  datetime_v = []\n",
        "  for i in time_v:\n",
        "    hour = int(i/60)\n",
        "    min = i%60\n",
        "    if hour>=24:\n",
        "      hour = hour - 24\n",
        "      input_str = '21/06/19 ' + str(hour) + ':' + str(min) + ':00'\n",
        "      dt_object = datetime.strptime(input_str, '%d/%m/%y %H:%M:%S')\n",
        "    else:\n",
        "      input_str = '20/06/19 ' + str(hour) + ':' + str(min) + ':00'\n",
        "      dt_object = datetime.strptime(input_str, '%d/%m/%y %H:%M:%S')\n",
        "    datetime_v.append(dt_object)\n",
        "  final_pv_used[k] = datetime_v"
      ],
      "metadata": {
        "id": "7AELI5Yw5FYY"
      },
      "execution_count": null,
      "outputs": []
    },
    {
      "cell_type": "code",
      "source": [
        "power_c_pv = [0]*len(timestamp)         #Calculation of power for controlled with PV charging   (grid power)\n",
        "\n",
        "vehicle = 16\n",
        "\n",
        "for i in final_min_slot_c_pv[vehicle]:\n",
        "  if i in timestamp:\n",
        "    index = timestamp.index(i)\n",
        "    power_c_pv[index] = 3"
      ],
      "metadata": {
        "id": "0KocHrQe7Nyi"
      },
      "execution_count": null,
      "outputs": []
    },
    {
      "cell_type": "code",
      "source": [
        "power_c_pv_used = [0]*len(timestamp)        #Calculation of power for controlled with PV charging (solar power)\n",
        "\n",
        "vehicle = 16\n",
        "\n",
        "for i in final_pv_used[vehicle]:\n",
        "  if i in timestamp:\n",
        "    index = timestamp.index(i)\n",
        "    power_c_pv_used[index] = 3"
      ],
      "metadata": {
        "id": "pv32sU0X7aAJ"
      },
      "execution_count": null,
      "outputs": []
    },
    {
      "cell_type": "code",
      "source": [
        "import numpy as np\n",
        "import matplotlib.pyplot as plt\n",
        "\n",
        "# Generate sample data\n",
        "#x = np.array(timestamp)\n",
        "y1 = np.array(power_c_pv)\n",
        "y2 = np.array(power_c_pv_used)\n",
        "\n",
        "# Aggregate data into groups of 12\n",
        "x_grouped = np.array(time)\n",
        "y_grouped1 = y1.reshape(-1, 12).mean(axis=1)\n",
        "y_grouped2 = y2.reshape(-1, 12).mean(axis=1)\n",
        "\n",
        "\n",
        "# Plot the grouped data\n",
        "plt.bar(x_grouped, y_grouped1, color='r')\n",
        "plt.bar(x_grouped, y_grouped2, bottom=y_grouped1, color='b')\n",
        "plt.legend([\"From Grid\", \"From Solar\"])\n",
        "\n",
        "# Set the x-axis tick labels to show only every 12th value\n",
        "plt.xticks(x_grouped[::2])\n",
        "plt.yticks([0.0,0.5,1.0,1.5,2.0,2.5,3.0])\n",
        "plt.title(\"Controlled with PV\")\n",
        "\n",
        "# Show the plot\n",
        "plt.show()\n"
      ],
      "metadata": {
        "colab": {
          "base_uri": "https://localhost:8080/",
          "height": 452
        },
        "id": "-SembSXe7bXE",
        "outputId": "0ca85184-4038-48e7-922f-0ff1a3a39209"
      },
      "execution_count": null,
      "outputs": [
        {
          "output_type": "display_data",
          "data": {
            "text/plain": [
              "<Figure size 640x480 with 1 Axes>"
            ],
            "image/png": "[encoded data removed]"
          },
          "metadata": {}
        }
      ]
    },
    {
      "cell_type": "code",
      "source": [
        "#######Uncontrolled\n",
        "time = [x+1 for x in range(24)]\n",
        "\n",
        "y = np.array(power_uc_wpv)\n",
        "\n",
        "x_grouped = np.array(time)\n",
        "y_grouped1 = y.reshape(-1, 12).mean(axis=1)\n",
        "\n",
        "#######Controlled without pv\n",
        "y = np.array(power_c_wpv)\n",
        "\n",
        "y_grouped2 = y.reshape(-1, 12).mean(axis=1)\n",
        "\n",
        "#######Controlled with pv\n",
        "y1 = np.array(power_c_pv)\n",
        "y2 = np.array(power_c_pv_used)\n",
        "\n",
        "y_grouped3 = y1.reshape(-1, 12).mean(axis=1)\n",
        "y_grouped4 = y2.reshape(-1, 12).mean(axis=1)\n",
        "\n",
        "plt.rcParams[\"figure.figsize\"] = [10,8]\n",
        "\n",
        "plt.subplot(311)\n",
        "plt.bar(x_grouped, y_grouped1, color='b')\n",
        "# plt.title(\"Uncontrolled without PV\",fontweight=\"bold\")\n",
        "plt.xticks(x_grouped[::2])\n",
        "plt.yticks([0.0,0.5,1.0,1.5,2.0,2.5,3.0,3.5])\n",
        "# plt.ylabel(\"Power(kW)\")\n",
        "plt.text(0, 2.5, \"a\", fontsize=14,fontweight=\"bold\")\n",
        "\n",
        "plt.subplot(312)\n",
        "plt.bar(x_grouped, y_grouped2, color='b')\n",
        "# plt.title(\"Controlled without PV\",fontweight=\"bold\")\n",
        "plt.xticks(x_grouped[::2])\n",
        "plt.yticks([0.0,0.5,1.0,1.5,2.0,2.5,3.0,3.5])\n",
        "# plt.ylabel(\"Power(kW)\")\n",
        "plt.text(0, 2.5, \"b\", fontsize=14,fontweight=\"bold\")\n",
        "\n",
        "plt.subplot(313)\n",
        "plt.bar(x_grouped, y_grouped3, color='b')\n",
        "plt.bar(x_grouped, y_grouped4, bottom=y_grouped3, color='r')\n",
        "plt.legend([\"From Grid\", \"From Solar\"], fontsize=12)\n",
        "# plt.title(\"Controlled with PV\",fontweight=\"bold\")\n",
        "plt.xticks(x_grouped[::2])\n",
        "plt.yticks([0.0,0.5,1.0,1.5,2.0,2.5,3.0,3.5])\n",
        "plt.text(11.9, -0.65, 'Time(Hr)', ha='center', fontsize=14,fontweight=\"bold\")\n",
        "# plt.xlabel(\"Time(Hr)\")\n",
        "# plt.ylabel(\"Power(kW)\")\n",
        "plt.text(0, 2.5, \"c\", fontsize=14,fontweight=\"bold\")\n",
        "plt.text(-2.45, 5.1, 'Energy(kWh)', va='center', rotation='vertical', fontsize=14,fontweight=\"bold\")\n",
        "\n",
        "# Show the plot\n",
        "plt.show()"
      ],
      "metadata": {
        "colab": {
          "base_uri": "https://localhost:8080/",
          "height": 696
        },
        "id": "NRrLeI30jIhB",
        "outputId": "085e52bb-7fe8-4d5a-9a47-f9415d04725b"
      },
      "execution_count": null,
      "outputs": [
        {
          "output_type": "display_data",
          "data": {
            "text/plain": [
              "<Figure size 1000x800 with 3 Axes>"
            ],
            "image/png": "[encoded data removed]"
          },
          "metadata": {}
        }
      ]
    },
    {
      "cell_type": "markdown",
      "source": [
        "(a) Uncontrolled (b) Controlled without PV (c) Controlled with PV for single charging rates."
      ],
      "metadata": {
        "id": "1vfqs76quClA"
      }
    },
    {
      "cell_type": "code",
      "source": [
        "#Cost for a single vehicle #9\n",
        "\n",
        "total_cost_uc_wpv = 0\n",
        "total_cost_c_wpv = 0\n",
        "total_cost_c_pv = 0\n",
        "\n",
        "for i in range(len(power_uc_wpv)):\n",
        "  if power_uc_wpv[i] > 0:\n",
        "    total_cost_uc_wpv +=  cost_per_slot[i]\n",
        "\n",
        "for i in range(len(power_c_wpv)):\n",
        "  if power_c_wpv[i] > 0:\n",
        "    total_cost_c_wpv = total_cost_c_wpv + cost_per_slot[i]\n",
        "\n",
        "for i in range(len(power_c_pv)):\n",
        "  if power_c_pv[i] > 0:\n",
        "    total_cost_c_pv = total_cost_c_pv + cost_per_slot[i]\n",
        "\n",
        "for i in range(len(power_c_pv_used)):\n",
        "  if power_c_pv_used[i] > 0:\n",
        "    total_cost_c_pv = total_cost_c_pv + (lcoe_pv/12)*3\n",
        "\n",
        "print(total_cost_uc_wpv,total_cost_c_wpv,total_cost_c_pv)"
      ],
      "metadata": {
        "colab": {
          "base_uri": "https://localhost:8080/"
        },
        "id": "CtxkVbtMzhYo",
        "outputId": "fbd9c65f-23a4-4311-ae77-6911e97cfe10"
      },
      "execution_count": null,
      "outputs": [
        {
          "output_type": "stream",
          "name": "stdout",
          "text": [
            "2.0199999999999987 2.0199999999999987 1.96\n"
          ]
        }
      ]
    },
    {
      "cell_type": "code",
      "source": [
        "pv_total = 0          #cost of unused solar power \n",
        "\n",
        "for i in range(len(pv_per_slot)):\n",
        "  if pv_per_slot[i] > 0:\n",
        "    pv_total += pv_per_slot[i]*0.08/12\n",
        "\n",
        "print(pv_total)"
      ],
      "metadata": {
        "colab": {
          "base_uri": "https://localhost:8080/"
        },
        "id": "OIiHQCLRlC8b",
        "outputId": "e34a481c-b319-4b70-c14d-5e66374f94b5"
      },
      "execution_count": null,
      "outputs": [
        {
          "output_type": "stream",
          "name": "stdout",
          "text": [
            "2.172879999999999\n"
          ]
        }
      ]
    },
    {
      "cell_type": "code",
      "source": [
        "#Cost for all vehicles\n",
        "\n",
        "all_cost_uc_wpv = 0\n",
        "all_cost_c_wpv = 0\n",
        "all_cost_c_pv = 0\n",
        "\n",
        "for vehicle in data_new:\n",
        "  \n",
        "  power_uc_wpv = [0]*288\n",
        "  power_c_wpv = [0]*288\n",
        "  power_c_pv = [0]*288\n",
        "  power_c_pv_used = [0]*288\n",
        "\n",
        "  slots = data_new[vehicle]['dt'] - data_new[vehicle]['at']\n",
        "\n",
        "  if slots > data_new[vehicle]['cd']:\n",
        "    to_count = data_new[vehicle]['cd']\n",
        "  else:\n",
        "    to_count = slots\n",
        "\n",
        "  for i in range(to_count):\n",
        "    power_uc_wpv[data_new[vehicle]['at']+i] = 3\n",
        "\n",
        "  for i in final_min_slot[vehicle]:\n",
        "    if i in timestamp:\n",
        "      index = timestamp.index(i)\n",
        "      power_c_wpv[index] = 3\n",
        "\n",
        "  for i in final_min_slot_c_pv[vehicle]:\n",
        "    if i in timestamp:\n",
        "      index = timestamp.index(i)\n",
        "      power_c_pv[index] = 3\n",
        "\n",
        "  for i in final_pv_used[vehicle]:\n",
        "    if i in timestamp:\n",
        "      index = timestamp.index(i)\n",
        "      power_c_pv_used[index] = 3\n",
        "\n",
        "  for i in range(len(power_uc_wpv)):\n",
        "    if power_uc_wpv[i] > 0:\n",
        "      all_cost_uc_wpv +=  cost_per_slot[i]\n",
        "\n",
        "  for i in range(len(power_c_wpv)):\n",
        "    if power_c_wpv[i] > 0:\n",
        "      all_cost_c_wpv +=  cost_per_slot[i]\n",
        "\n",
        "  for i in range(len(power_c_pv)):\n",
        "    if power_c_pv[i] > 0:\n",
        "      all_cost_c_pv += cost_per_slot[i]\n",
        "\n",
        "  for i in range(len(power_c_pv_used)):\n",
        "    if power_c_pv_used[i] > 0:\n",
        "      all_cost_c_pv += (lcoe_pv/12)*3\n",
        "\n",
        "print(f'UC_WPV : {all_cost_uc_wpv}, C_WPV : {all_cost_c_wpv}, C_PV : {all_cost_c_pv}, Solar profit from grid : {pv_total}, Overall_cost : {all_cost_c_pv-pv_total}')"
      ],
      "metadata": {
        "colab": {
          "base_uri": "https://localhost:8080/"
        },
        "id": "599avP9iAgr9",
        "outputId": "b9939149-427f-453d-f19f-b9beb5d7cd98"
      },
      "execution_count": null,
      "outputs": [
        {
          "output_type": "stream",
          "name": "stdout",
          "text": [
            "UC_WPV : 137.25749999999172, C_WPV : 124.07999999999194, C_PV : 115.36999999999328, Solar profit from grid : 2.172879999999999, Overall_cost : 113.19711999999329\n"
          ]
        }
      ]
    },
    {
      "cell_type": "markdown",
      "source": [
        "### **Multiple kW** "
      ],
      "metadata": {
        "id": "f9PJnYBf8GfR"
      }
    },
    {
      "cell_type": "code",
      "source": [
        "data_new_upd = {}                                                                 ###Conversion of data from time format to slot format\n",
        "for i in range(len(df)):\n",
        "  at = datetime.strptime(df['VehicleArrivalTime'][i], '%H:%M:%S').time() \n",
        "  dt = datetime.strptime(df['VehicleDepatureTime'][i], '%H:%M:%S').time()\n",
        "  #Arrival\n",
        "  temp = (at.minute)%5\n",
        "  if temp == 0:\n",
        "    temp_arr = at.minute\n",
        "  else:\n",
        "    temp_arr = at.minute+5-temp\n",
        "  arrival_slot = (at.hour)*12 + (temp_arr/5)\n",
        "  #Departure\n",
        "  temp1 = (dt.minute)%5\n",
        "  temp_dep = dt.minute-temp1\n",
        "  dept_slot = (dt.hour)*12 + (temp_dep/5)\n",
        "  #Charging_duration\n",
        "  ctime3 =  datetime.strptime(df['Time Required at 3kW'][i], '%H:%M:%S').time()\n",
        "  temp3 = (ctime3.minute)%5\n",
        "  temp_cd3 = ctime3.minute-temp3\n",
        "  cd_slot3 = (ctime3.hour)*12 + (temp_cd3/5)\n",
        "\n",
        "  ctime7 =  datetime.strptime(df['Time Required at 7kW'][i], '%H:%M:%S').time()\n",
        "  temp7 = (ctime7.minute)%5\n",
        "  temp_cd7 = ctime7.minute-temp7\n",
        "  cd_slot7 = (ctime7.hour)*12 + (temp_cd7/5)\n",
        "\n",
        "  ctime11 =  datetime.strptime(df['Time Required at 11kW'][i], '%H:%M:%S').time()\n",
        "  temp11 = (ctime11.minute)%5\n",
        "  temp_cd11 = ctime11.minute-temp11\n",
        "  cd_slot11 = (ctime11.hour)*12 + (temp_cd11/5)\n",
        "\n",
        "  #Create_dict\n",
        "  data_new_upd[i+1] = {'at':int(arrival_slot),'dt':int(dept_slot),'cd':{3:int(cd_slot3),7:int(cd_slot7),11:int(cd_slot11)}}\n"
      ],
      "metadata": {
        "id": "UJaMlHKF7dzY"
      },
      "execution_count": null,
      "outputs": []
    },
    {
      "cell_type": "code",
      "source": [
        "data_new_upd"
      ],
      "metadata": {
        "colab": {
          "base_uri": "https://localhost:8080/"
        },
        "id": "4902EdB4IO4Q",
        "outputId": "32b12fde-9dec-4ce4-c604-bd699fd7bd61"
      },
      "execution_count": null,
      "outputs": [
        {
          "output_type": "execute_result",
          "data": {
            "text/plain": [
              "{1: {'at': 76, 'dt': 166, 'cd': {3: 89, 7: 38, 11: 24}},\n",
              " 2: {'at': 76, 'dt': 102, 'cd': {3: 29, 7: 12, 11: 8}},\n",
              " 3: {'at': 77, 'dt': 121, 'cd': {3: 44, 7: 19, 11: 12}},\n",
              " 4: {'at': 78, 'dt': 214, 'cd': {3: 116, 7: 50, 11: 31}},\n",
              " 5: {'at': 78, 'dt': 125, 'cd': {3: 47, 7: 20, 11: 12}},\n",
              " 6: {'at': 78, 'dt': 122, 'cd': {3: 56, 7: 24, 11: 15}},\n",
              " 7: {'at': 81, 'dt': 184, 'cd': {3: 150, 7: 64, 11: 40}},\n",
              " 8: {'at': 82, 'dt': 116, 'cd': {3: 41, 7: 17, 11: 11}},\n",
              " 9: {'at': 82, 'dt': 109, 'cd': {3: 35, 7: 15, 11: 9}},\n",
              " 10: {'at': 83, 'dt': 168, 'cd': {3: 32, 7: 13, 11: 8}},\n",
              " 11: {'at': 85, 'dt': 194, 'cd': {3: 12, 7: 5, 11: 3}},\n",
              " 12: {'at': 86, 'dt': 241, 'cd': {3: 243, 7: 104, 11: 66}},\n",
              " 13: {'at': 87, 'dt': 210, 'cd': {3: 75, 7: 32, 11: 20}},\n",
              " 14: {'at': 88, 'dt': 178, 'cd': {3: 23, 7: 10, 11: 6}},\n",
              " 15: {'at': 88, 'dt': 159, 'cd': {3: 62, 7: 26, 11: 16}},\n",
              " 16: {'at': 89, 'dt': 145, 'cd': {3: 105, 7: 45, 11: 28}},\n",
              " 17: {'at': 89, 'dt': 108, 'cd': {3: 267, 7: 114, 11: 73}},\n",
              " 18: {'at': 89, 'dt': 131, 'cd': {3: 28, 7: 12, 11: 7}},\n",
              " 19: {'at': 89, 'dt': 187, 'cd': {3: 90, 7: 38, 11: 24}},\n",
              " 20: {'at': 91, 'dt': 184, 'cd': {3: 75, 7: 32, 11: 20}},\n",
              " 21: {'at': 91, 'dt': 142, 'cd': {3: 66, 7: 28, 11: 18}},\n",
              " 22: {'at': 92, 'dt': 181, 'cd': {3: 224, 7: 96, 11: 61}},\n",
              " 23: {'at': 92, 'dt': 163, 'cd': {3: 98, 7: 42, 11: 26}},\n",
              " 24: {'at': 92, 'dt': 153, 'cd': {3: 10, 7: 4, 11: 2}},\n",
              " 25: {'at': 94, 'dt': 129, 'cd': {3: 49, 7: 21, 11: 13}},\n",
              " 26: {'at': 95, 'dt': 159, 'cd': {3: 51, 7: 21, 11: 13}},\n",
              " 27: {'at': 96, 'dt': 143, 'cd': {3: 68, 7: 29, 11: 18}},\n",
              " 28: {'at': 96, 'dt': 164, 'cd': {3: 46, 7: 19, 11: 12}},\n",
              " 29: {'at': 96, 'dt': 113, 'cd': {3: 36, 7: 15, 11: 9}},\n",
              " 30: {'at': 97, 'dt': 162, 'cd': {3: 26, 7: 11, 11: 7}},\n",
              " 31: {'at': 97, 'dt': 127, 'cd': {3: 20, 7: 8, 11: 5}},\n",
              " 32: {'at': 97, 'dt': 237, 'cd': {3: 125, 7: 53, 11: 34}},\n",
              " 33: {'at': 98, 'dt': 193, 'cd': {3: 52, 7: 22, 11: 14}},\n",
              " 34: {'at': 100, 'dt': 117, 'cd': {3: 6, 7: 2, 11: 1}},\n",
              " 35: {'at': 100, 'dt': 121, 'cd': {3: 16, 7: 7, 11: 4}},\n",
              " 36: {'at': 101, 'dt': 200, 'cd': {3: 91, 7: 39, 11: 25}},\n",
              " 37: {'at': 102, 'dt': 120, 'cd': {3: 19, 7: 8, 11: 5}},\n",
              " 38: {'at': 102, 'dt': 253, 'cd': {3: 187, 7: 80, 11: 51}},\n",
              " 39: {'at': 102, 'dt': 159, 'cd': {3: 64, 7: 27, 11: 17}},\n",
              " 40: {'at': 103, 'dt': 173, 'cd': {3: 12, 7: 5, 11: 3}},\n",
              " 41: {'at': 103, 'dt': 200, 'cd': {3: 146, 7: 62, 11: 40}},\n",
              " 42: {'at': 103, 'dt': 129, 'cd': {3: 4, 7: 1, 11: 1}},\n",
              " 43: {'at': 104, 'dt': 210, 'cd': {3: 63, 7: 27, 11: 17}},\n",
              " 44: {'at': 105, 'dt': 136, 'cd': {3: 4, 7: 1, 11: 1}},\n",
              " 45: {'at': 105, 'dt': 143, 'cd': {3: 5, 7: 2, 11: 1}},\n",
              " 46: {'at': 107, 'dt': 200, 'cd': {3: 37, 7: 16, 11: 10}},\n",
              " 47: {'at': 108, 'dt': 256, 'cd': {3: 151, 7: 64, 11: 41}},\n",
              " 48: {'at': 111, 'dt': 202, 'cd': {3: 9, 7: 3, 11: 2}},\n",
              " 49: {'at': 112, 'dt': 270, 'cd': {3: 144, 7: 62, 11: 39}},\n",
              " 50: {'at': 112, 'dt': 159, 'cd': {3: 49, 7: 21, 11: 13}},\n",
              " 51: {'at': 113, 'dt': 185, 'cd': {3: 19, 7: 8, 11: 5}},\n",
              " 52: {'at': 113, 'dt': 260, 'cd': {3: 141, 7: 60, 11: 38}},\n",
              " 53: {'at': 117, 'dt': 229, 'cd': {3: 184, 7: 79, 11: 50}},\n",
              " 54: {'at': 121, 'dt': 148, 'cd': {3: 27, 7: 11, 11: 7}},\n",
              " 55: {'at': 123, 'dt': 205, 'cd': {3: 30, 7: 12, 11: 8}},\n",
              " 56: {'at': 133, 'dt': 220, 'cd': {3: 38, 7: 16, 11: 10}},\n",
              " 57: {'at': 140, 'dt': 183, 'cd': {3: 69, 7: 29, 11: 18}},\n",
              " 58: {'at': 150, 'dt': 192, 'cd': {3: 69, 7: 29, 11: 19}},\n",
              " 59: {'at': 152, 'dt': 194, 'cd': {3: 58, 7: 25, 11: 15}},\n",
              " 60: {'at': 159, 'dt': 239, 'cd': {3: 95, 7: 41, 11: 26}},\n",
              " 61: {'at': 161, 'dt': 251, 'cd': {3: 117, 7: 50, 11: 31}},\n",
              " 62: {'at': 163, 'dt': 258, 'cd': {3: 51, 7: 21, 11: 13}},\n",
              " 63: {'at': 166, 'dt': 206, 'cd': {3: 32, 7: 14, 11: 8}},\n",
              " 64: {'at': 168, 'dt': 184, 'cd': {3: 14, 7: 6, 11: 3}},\n",
              " 65: {'at': 170, 'dt': 213, 'cd': {3: 0, 7: 0, 11: 0}},\n",
              " 66: {'at': 171, 'dt': 230, 'cd': {3: 88, 7: 37, 11: 24}},\n",
              " 67: {'at': 171, 'dt': 243, 'cd': {3: 56, 7: 24, 11: 15}},\n",
              " 68: {'at': 176, 'dt': 226, 'cd': {3: 54, 7: 23, 11: 14}},\n",
              " 69: {'at': 181, 'dt': 283, 'cd': {3: 182, 7: 78, 11: 49}},\n",
              " 70: {'at': 182, 'dt': 275, 'cd': {3: 60, 7: 25, 11: 16}},\n",
              " 71: {'at': 184, 'dt': 215, 'cd': {3: 1, 7: 0, 11: 0}},\n",
              " 72: {'at': 186, 'dt': 230, 'cd': {3: 48, 7: 20, 11: 13}},\n",
              " 73: {'at': 189, 'dt': 216, 'cd': {3: 26, 7: 11, 11: 7}},\n",
              " 74: {'at': 190, 'dt': 209, 'cd': {3: 13, 7: 5, 11: 3}},\n",
              " 75: {'at': 210, 'dt': 236, 'cd': {3: 43, 7: 18, 11: 11}},\n",
              " 76: {'at': 213, 'dt': 276, 'cd': {3: 45, 7: 19, 11: 12}},\n",
              " 77: {'at': 228, 'dt': 271, 'cd': {3: 66, 7: 28, 11: 18}}}"
            ]
          },
          "metadata": {},
          "execution_count": 22
        }
      ]
    },
    {
      "cell_type": "code",
      "source": [
        "tariff = {0:0.06,1:0.06,2:0.06,3:0.06,4:0.06,5:0.06,6:0.06,7:0.25,8:0.25,9:0.09,10:0.09,11:0.09,12:0.09,13:0.09,14:0.09,15:0.09,16:0.09,17:0.25,18:0.25,19:0.25,20:0.09,21:0.09,22:0.06,23:0.06}\n",
        "\n",
        "min_slot = {}\n",
        "\n",
        "cost_per_slot = {3:[],7:[],11:[]} \n",
        "\n",
        "for rate in cost_per_slot:\n",
        "  for k,v in tariff.items():\n",
        "    temp = [round((v * rate)/12,5)]*12\n",
        "    cost_per_slot[rate] += temp\n"
      ],
      "metadata": {
        "id": "jNg8dg_l8OnA"
      },
      "execution_count": null,
      "outputs": []
    },
    {
      "cell_type": "code",
      "source": [
        "def find_min_sum_indexes(k_list, n):\n",
        "    \n",
        "    # Find the n smallest variables in the list\n",
        "    n_smallest = sorted(k_list)[:n]\n",
        "    \n",
        "    # Find the sum of the n smallest variables\n",
        "    sum_of_n_variables = sum(n_smallest)\n",
        "    \n",
        "    # Find the indices of the n smallest variables in the original list\n",
        "    ind = []\n",
        "    for i in n_smallest:\n",
        "      ind.append(k_list.index(i))\n",
        "      k_list[k_list.index(i)] = 0\n",
        "    \n",
        "    return sorted(ind)\n",
        "\n",
        "    \n",
        "def remove_old(charging, arrival):      # fn to remove departured cars and update the count\n",
        "  for i in charging:\n",
        "    temp = sorted(charging[i]['avail'])\n",
        "    for j in sorted(charging[i]['avail']):\n",
        "      if arrival >= j:\n",
        "        temp.pop(0)\n",
        "        charging[i]['count'] += 1\n",
        "      else:\n",
        "        break\n",
        "    charging[i]['avail'] = temp\n",
        "  \n",
        "  return charging\n",
        "\n",
        "def add_new(charging, data_new_upd, vehicle, dt):   # fn to add new vehicles and find their appropriate charging rate \n",
        "  slots = dt - data_new_upd[vehicle]['at']\n",
        "  for i in charging:\n",
        "    cd = data_new_upd[vehicle]['cd'][i]\n",
        "\n",
        "    if charging[i]['count'] > 0 and cd < slots: # edit to new one - even though cd doesn't match, if there is station, use it\n",
        "      curr_rate = i\n",
        "      break\n",
        "    elif charging[i]['count'] > 0:\n",
        "      curr_rate = i\n",
        "\n",
        "  charging[curr_rate]['count'] -= 1\n",
        "  charging[curr_rate]['avail'].append(dt)\n",
        "  return charging, curr_rate, slots, cd"
      ],
      "metadata": {
        "id": "zf8j_BoQ8WPp"
      },
      "execution_count": null,
      "outputs": []
    },
    {
      "cell_type": "markdown",
      "source": [
        "Uncontrolled"
      ],
      "metadata": {
        "id": "bLKDeoMIiwVB"
      }
    },
    {
      "cell_type": "code",
      "source": [
        "charging = {3:{'count':30,'avail':[]},7:{'count':20,'avail':[]},11:{'count':10,'avail':[]}}\n",
        "\n",
        "min_slot_uc_wpv_diff_rates_m = {}\n",
        "rate = 3\n",
        "\n",
        "for i in data_new_upd:\n",
        "    if data_new_upd[i]['dt'] < data_new_upd[i]['at']:\n",
        "      dt = data_new_upd[i]['dt'] + 288\n",
        "    else:\n",
        "      dt = data_new_upd[i]['dt']\n",
        "\n",
        "    charging = remove_old(charging, data_new_upd[i]['at']) \n",
        "    charging, rate, slots, cd = add_new(charging, data_new_upd, i, dt)\n",
        "    \n",
        "    cost_slots = []\n",
        "    index_chosen = [] # to identify pv slots out of entire one : 0 - ev; 1 - pv\n",
        "\n",
        "    if cd >= slots:\n",
        "      temp = [x + data_new_upd[i]['at'] for x in range(slots)]\n",
        "      \n",
        "    else:\n",
        "      min = [x for x in range(cd)]\n",
        "      temp = [x + data_new_upd[i]['at'] for x in min]\n",
        "\n",
        "    min_slot_uc_wpv_diff_rates_m[i] = {'rate':rate,'values':temp}\n"
      ],
      "metadata": {
        "id": "V1iWJ9Bniynw"
      },
      "execution_count": null,
      "outputs": []
    },
    {
      "cell_type": "code",
      "source": [
        "from datetime import datetime                                   ###Conversion from slot format to time format\n",
        "final_min_slot_uc_wpv_diff_rates_m = {}\n",
        "\n",
        "#Convert all slot into minutes for min values\n",
        "for k,v in min_slot_uc_wpv_diff_rates_m.items():\n",
        "  time_v = [x*5 for x in v['values']]\n",
        "  datetime_v = []\n",
        "  for i in time_v:\n",
        "    hour = int(i/60)\n",
        "    min = i%60\n",
        "    if hour>=24:\n",
        "      hour = hour - 24\n",
        "      input_str = '21/06/19 ' + str(hour) + ':' + str(min) + ':00'\n",
        "      dt_object = datetime.strptime(input_str, '%d/%m/%y %H:%M:%S')\n",
        "    else:\n",
        "      input_str = '20/06/19 ' + str(hour) + ':' + str(min) + ':00'\n",
        "      dt_object = datetime.strptime(input_str, '%d/%m/%y %H:%M:%S')\n",
        "    datetime_v.append(dt_object)\n",
        "  final_min_slot_uc_wpv_diff_rates_m[k] = datetime_v\n"
      ],
      "metadata": {
        "id": "jjqVtgAtl36b"
      },
      "execution_count": null,
      "outputs": []
    },
    {
      "cell_type": "code",
      "source": [
        "power_uc_wpv_m = [0]*len(timestamp)                               #Calculation of power for uncontrolled charging\n",
        "\n",
        "vehicle = 16\n",
        "\n",
        "for i in final_min_slot_uc_wpv_diff_rates_m[vehicle]:\n",
        "  if i in timestamp:\n",
        "    index = timestamp.index(i)\n",
        "    power_uc_wpv_m[index] = min_slot_uc_wpv_diff_rates_m[vehicle]['rate']\n",
        "\n",
        "\n",
        "import numpy as np\n",
        "import matplotlib.pyplot as plt\n",
        "\n",
        "# Generate sample data\n",
        "#x = np.array(timestamp)\n",
        "y1 = np.array(power_uc_wpv_m)\n",
        "\n",
        "# Aggregate data into groups of 12\n",
        "x_grouped = np.array(time)\n",
        "y_grouped1 = y1.reshape(-1, 12).mean(axis=1)\n",
        "\n",
        "\n",
        "# Plot the grouped data\n",
        "plt.bar(x_grouped, y_grouped1, color='r')\n",
        "plt.bar(x_grouped, y_grouped1, color='b')\n",
        "\n",
        "# Set the x-axis tick labels to show only every 12th value\n",
        "plt.xticks(x_grouped[::2])\n",
        "# plt.yticks([0.0,0.5,1.0,1.5,2.0,2.5,3.0])\n",
        "plt.title(\"Uncontrolled\")\n",
        "\n",
        "# Show the plot\n",
        "plt.show()"
      ],
      "metadata": {
        "colab": {
          "base_uri": "https://localhost:8080/",
          "height": 699
        },
        "id": "Vd7oCv2jiylp",
        "outputId": "46e38d79-8c7b-410f-af9a-abefce90772b"
      },
      "execution_count": null,
      "outputs": [
        {
          "output_type": "display_data",
          "data": {
            "text/plain": [
              "<Figure size 1000x800 with 1 Axes>"
            ],
            "image/png": "[encoded data removed]"
          },
          "metadata": {}
        }
      ]
    },
    {
      "cell_type": "markdown",
      "source": [
        "Controlled without PV"
      ],
      "metadata": {
        "id": "r6k-9boel-i9"
      }
    },
    {
      "cell_type": "code",
      "source": [
        "charging = {3:{'count':30,'avail':[]},7:{'count':20,'avail':[]},11:{'count':10,'avail':[]}}\n",
        "pv_per_hour_new = {key:0 for key in range(24)}\n",
        "pv_per_slot = []\n",
        "lcoe_pv = 0.08\n",
        "lcoe_pv_slot = lcoe_pv/12\n",
        "\n",
        "\n",
        "for temp in range(2):\n",
        "  for k,v in pv_per_hour_new.items():\n",
        "    temp = [v]*12\n",
        "    pv_per_slot += temp\n",
        "\n",
        "min_slot_c_wpv_diff_rates_m = {}\n",
        "slot_tariff_ev = []\n",
        "slot_tariff_pv = []\n",
        "pv_used = {}\n",
        "rate = 3\n",
        "\n",
        "for i in data_new_upd:\n",
        "    if data_new_upd[i]['dt'] < data_new_upd[i]['at']:\n",
        "      dt = data_new_upd[i]['dt'] + 288\n",
        "    else:\n",
        "      dt = data_new_upd[i]['dt']\n",
        "\n",
        "    pv_used[i] = []\n",
        "\n",
        "    charging = remove_old(charging, data_new_upd[i]['at']) \n",
        "    charging, rate, slots, cd = add_new(charging, data_new_upd, i, dt)\n",
        "    \n",
        "    cost_slots = []\n",
        "    index_chosen = [] # to identify pv slots out of entire one : 0 - ev; 1 - pv\n",
        "\n",
        "    for j in range(data_new[i]['at'], dt):\n",
        "      diff = rate - pv_per_slot[j]\n",
        "      if diff > 0:\n",
        "        cost_slots.append(cost_per_slot[rate][j])\n",
        "        index_chosen.append(0)\n",
        "      else:\n",
        "        if lcoe_pv_slot*rate < cost_per_slot[rate][j]:\n",
        "          cost_slots.append(lcoe_pv_slot*rate)\n",
        "          index_chosen.append(1)\n",
        "        else:\n",
        "          cost_slots.append(cost_per_slot[rate][j])\n",
        "          index_chosen.append(0)\n",
        "\n",
        "    if cd >= slots:\n",
        "      temp = [x + data_new_upd[i]['at'] for x in range(len(cost_slots))]\n",
        "      \n",
        "      for j in range(len(index_chosen)):\n",
        "        if index_chosen[j] == 1:\n",
        "          pv_per_slot[j + data_new_upd[i]['at']] -= rate\n",
        "          temp.remove(j + data_new_upd[i]['at'])\n",
        "          pv_used[i].append(j + data_new_upd[i]['at'])\n",
        "\n",
        "    else:\n",
        "      min = find_min_sum_indexes(cost_slots, cd)\n",
        "      for j in min:\n",
        "        if index_chosen[j] == 1:\n",
        "          pv_per_slot[j + data_new_upd[i]['at']] -= rate\n",
        "          min.remove(j)\n",
        "          pv_used[i].append(j + data_new_upd[i]['at'])\n",
        "\n",
        "      temp = [x + data_new_upd[i]['at'] for x in min]\n",
        "\n",
        "    min_slot_c_wpv_diff_rates_m[i] = {'rate':rate,'values':temp}\n"
      ],
      "metadata": {
        "id": "IxgJz_huiyjW"
      },
      "execution_count": null,
      "outputs": []
    },
    {
      "cell_type": "code",
      "source": [
        "from datetime import datetime                             \n",
        "final_min_slot_c_wpv_diff_rates_m = {}\n",
        "final_pv_used_diff_rates_m = {}\n",
        "\n",
        "#Convert all slot into minutes for min values\n",
        "for k,v in min_slot_c_wpv_diff_rates_m.items():\n",
        "  time_v = [x*5 for x in v['values']]\n",
        "  datetime_v = []\n",
        "  for i in time_v:\n",
        "    hour = int(i/60)\n",
        "    min = i%60\n",
        "    if hour>=24:\n",
        "      hour = hour - 24\n",
        "      input_str = '21/06/19 ' + str(hour) + ':' + str(min) + ':00'\n",
        "      dt_object = datetime.strptime(input_str, '%d/%m/%y %H:%M:%S')\n",
        "    else:\n",
        "      input_str = '20/06/19 ' + str(hour) + ':' + str(min) + ':00'\n",
        "      dt_object = datetime.strptime(input_str, '%d/%m/%y %H:%M:%S')\n",
        "    datetime_v.append(dt_object)\n",
        "  final_min_slot_c_wpv_diff_rates_m[k] = datetime_v"
      ],
      "metadata": {
        "id": "tvs8aGJWi3cl"
      },
      "execution_count": null,
      "outputs": []
    },
    {
      "cell_type": "code",
      "source": [
        "power_c_wpv_m = [0]*len(timestamp)                    #Calculation of power for controlled without PV charging\n",
        "\n",
        "vehicle = 16\n",
        "\n",
        "for i in final_min_slot_c_wpv_diff_rates_m[vehicle]:\n",
        "  if i in timestamp:\n",
        "    index = timestamp.index(i)\n",
        "    power_c_wpv_m[index] = min_slot_c_wpv_diff_rates_m[vehicle]['rate']\n",
        "\n",
        "\n",
        "import numpy as np\n",
        "import matplotlib.pyplot as plt\n",
        "\n",
        "# Generate sample data\n",
        "y1 = np.array(power_c_wpv_m)\n",
        "\n",
        "# Aggregate data into groups of 12\n",
        "x_grouped = np.array(time)\n",
        "y_grouped1 = y1.reshape(-1, 12).mean(axis=1)\n",
        "\n",
        "\n",
        "# Plot the grouped data\n",
        "plt.bar(x_grouped, y_grouped1, color='r')\n",
        "plt.bar(x_grouped, y_grouped1, color='b')\n",
        "\n",
        "# Set the x-axis tick labels to show only every 12th value\n",
        "plt.xticks(x_grouped[::2])\n",
        "plt.yticks([0.0,1.0,2.0,3.0,4.0,5.0,6.0,7.0])\n",
        "plt.title(\"Controlled without PV\")\n",
        "\n",
        "# Show the plot\n",
        "plt.show()"
      ],
      "metadata": {
        "colab": {
          "base_uri": "https://localhost:8080/",
          "height": 699
        },
        "id": "gF5jo51Li3aJ",
        "outputId": "8644d991-2169-4c4d-e2ee-6b49bda27485"
      },
      "execution_count": null,
      "outputs": [
        {
          "output_type": "display_data",
          "data": {
            "text/plain": [
              "<Figure size 1000x800 with 1 Axes>"
            ],
            "image/png": "[encoded data removed]"
          },
          "metadata": {}
        }
      ]
    },
    {
      "cell_type": "markdown",
      "source": [
        "Controlled with PV"
      ],
      "metadata": {
        "id": "20Dnt3USmqEs"
      }
    },
    {
      "cell_type": "code",
      "source": [
        "charging = {3:{'count':30,'avail':[]},7:{'count':20,'avail':[]},11:{'count':10,'avail':[]}}\n",
        "# pv_per_hour = {0:0,1:0,2:0,3:0,4:0,5:6.50280763909578,6:15.3312502104903,7:28.0144264428700,8:38.9874810784457,9:46.8373835321062,10:50.4159931388299,11:49.5073555784204,12:43.9171668686913,13:34.7703425648592,14:22.7830336117972,15:9.38161600811833,16:0,17:0,18:0,19:0,20:0,21:0,22:0,23:0}\n",
        "\n",
        "pv_per_hour = {0:0,1:0,2:0,3:0,4:0,5:4.6204,6:10.8933,7:19.9050,8:27.7016,9:33.2792,10:35.8219,11:35.1763,12:31.2043,13:24.7052,14:16.1879,15:6.6659,16:0,17:0,18:0,19:0,20:0,21:0,22:0,23:0}\n",
        "\n",
        "pv_per_slot = []\n",
        "lcoe_pv = 0.08\n",
        "lcoe_pv_slot = lcoe_pv/12\n",
        "\n",
        "\n",
        "# for temp in range(2):\n",
        "for k,v in pv_per_hour.items():\n",
        "  temp = [v]*12\n",
        "  pv_per_slot += temp\n",
        "\n",
        "min_slot_c_pv_diff_rates = {}\n",
        "slot_tariff_ev = []\n",
        "slot_tariff_pv = []\n",
        "pv_used = {}\n",
        "rate = 3\n",
        "\n",
        "for i in data_new_upd:\n",
        "    if data_new_upd[i]['dt'] < data_new_upd[i]['at']:\n",
        "      dt = data_new_upd[i]['dt'] + 288\n",
        "    else:\n",
        "      dt = data_new_upd[i]['dt']\n",
        "\n",
        "    pv_used[i] = []\n",
        "\n",
        "    charging = remove_old(charging, data_new_upd[i]['at']) \n",
        "    charging, rate, slots, cd = add_new(charging, data_new_upd, i, dt)\n",
        "    \n",
        "    cost_slots = []\n",
        "    index_chosen = [] # to identify pv slots out of entire one : 0 - ev; 1 - pv\n",
        "\n",
        "\n",
        "    for j in range(data_new_upd[i]['at'], dt):\n",
        "      diff = rate - pv_per_slot[j]\n",
        "      if diff > 0:\n",
        "        cost_slots.append(cost_per_slot[rate][j])\n",
        "        index_chosen.append(0)\n",
        "      else:\n",
        "        if lcoe_pv_slot*rate < cost_per_slot[rate][j]:\n",
        "          cost_slots.append(lcoe_pv_slot*rate)\n",
        "          index_chosen.append(1)\n",
        "        else:\n",
        "          cost_slots.append(cost_per_slot[rate][j])\n",
        "          index_chosen.append(0)\n",
        "\n",
        "\n",
        "    if cd >= slots:\n",
        "      temp = [x + data_new_upd[i]['at'] for x in range(len(cost_slots))]\n",
        "      \n",
        "      for j in range(len(index_chosen)):\n",
        "        if index_chosen[j] == 1:\n",
        "          pv_per_slot[j + data_new_upd[i]['at']] -= rate\n",
        "          temp.remove(j + data_new_upd[i]['at'])\n",
        "          pv_used[i].append(j + data_new_upd[i]['at'])\n",
        "\n",
        "    else:\n",
        "      min = find_min_sum_indexes(cost_slots, cd)\n",
        "      temp = [x + data_new_upd[i]['at'] for x in min]\n",
        "\n",
        "      for j in min:\n",
        "        if index_chosen[j] == 1:\n",
        "          pv_per_slot[j + data_new_upd[i]['at']] -= rate\n",
        "          temp.remove(j + data_new_upd[i]['at'])\n",
        "          pv_used[i].append(j + data_new_upd[i]['at'])\n",
        "\n",
        "    min_slot_c_pv_diff_rates[i] = {'rate':rate,'values':temp}\n"
      ],
      "metadata": {
        "id": "zbK3eQ9o81C5"
      },
      "execution_count": null,
      "outputs": []
    },
    {
      "cell_type": "code",
      "source": [
        "from datetime import datetime\n",
        "final_min_slot_c_pv_diff_rates_m = {}\n",
        "final_pv_used_diff_rates_m = {}\n",
        "\n",
        "#Convert all slot into minutes for min values\n",
        "for k,v in min_slot_c_pv_diff_rates.items():\n",
        "  time_v = [x*5 for x in v['values']]\n",
        "  datetime_v = []\n",
        "  for i in time_v:\n",
        "    hour = int(i/60)\n",
        "    min = i%60\n",
        "    if hour>=24:\n",
        "      hour = hour - 24\n",
        "      input_str = '21/06/19 ' + str(hour) + ':' + str(min) + ':00'\n",
        "      dt_object = datetime.strptime(input_str, '%d/%m/%y %H:%M:%S')\n",
        "    else:\n",
        "      input_str = '20/06/19 ' + str(hour) + ':' + str(min) + ':00'\n",
        "      dt_object = datetime.strptime(input_str, '%d/%m/%y %H:%M:%S')\n",
        "    datetime_v.append(dt_object)\n",
        "  final_min_slot_c_pv_diff_rates_m[k] = datetime_v\n",
        "\n",
        "#Convert all slot into minutes for only pv values\n",
        "for k,v in pv_used.items():\n",
        "  time_v = [x*5 for x in v]\n",
        "  datetime_v = []\n",
        "  for i in time_v:\n",
        "    hour = int(i/60)\n",
        "    min = i%60\n",
        "    if hour>=24:\n",
        "      hour = hour - 24\n",
        "      input_str = '21/06/19 ' + str(hour) + ':' + str(min) + ':00'\n",
        "      dt_object = datetime.strptime(input_str, '%d/%m/%y %H:%M:%S')\n",
        "    else:\n",
        "      input_str = '20/06/19 ' + str(hour) + ':' + str(min) + ':00'\n",
        "      dt_object = datetime.strptime(input_str, '%d/%m/%y %H:%M:%S')\n",
        "    datetime_v.append(dt_object)\n",
        "  final_pv_used_diff_rates_m[k] = datetime_v"
      ],
      "metadata": {
        "id": "EfikKIel844A"
      },
      "execution_count": null,
      "outputs": []
    },
    {
      "cell_type": "code",
      "source": [
        "power_c_pv_m = [0]*len(timestamp)                         #Calculation of power for controlled with pv charging\n",
        "\n",
        "vehicle = 16\n",
        "\n",
        "for i in final_min_slot_c_pv_diff_rates_m[vehicle]:\n",
        "  if i in timestamp:\n",
        "    index = timestamp.index(i)\n",
        "    power_c_pv_m[index] = min_slot_c_pv_diff_rates[vehicle]['rate']\n",
        "\n",
        "\n",
        "power_c_pv_used_m = [0]*len(timestamp)\n",
        "\n",
        "for i in final_pv_used_diff_rates_m[vehicle]:\n",
        "  if i in timestamp:\n",
        "    index = timestamp.index(i)\n",
        "    power_c_pv_used_m[index] = min_slot_c_pv_diff_rates[vehicle]['rate']\n",
        "\n",
        "import numpy as np\n",
        "import matplotlib.pyplot as plt\n",
        "\n",
        "# Generate sample data\n",
        "#x = np.array(timestamp)\n",
        "y1 = np.array(power_c_pv_m)\n",
        "y2 = np.array(power_c_pv_used_m)\n",
        "\n",
        "# Aggregate data into groups of 12\n",
        "x_grouped = np.array(time)\n",
        "y_grouped1 = y1.reshape(-1, 12).mean(axis=1)\n",
        "y_grouped2 = y2.reshape(-1, 12).mean(axis=1)\n",
        "\n",
        "\n",
        "# Plot the grouped data\n",
        "plt.bar(x_grouped, y_grouped1, color='b')\n",
        "plt.bar(x_grouped, y_grouped2, bottom=y_grouped1, color='r')\n",
        "plt.legend([\"From Grid\", \"From Solar\"])\n",
        "\n",
        "# Set the x-axis tick labels to show only every 12th value\n",
        "plt.xticks(x_grouped[::2])\n",
        "plt.yticks([0.0,1.0,2.0,3.0,4.0,5.0,6.0,7.0])\n",
        "# plt.yticks([0.0,0.5,1.0,1.5,2.0,2.5,3.0])\n",
        "plt.title(\"Controlled with PV\")\n",
        "\n",
        "# Show the plot\n",
        "plt.show()"
      ],
      "metadata": {
        "colab": {
          "base_uri": "https://localhost:8080/",
          "height": 699
        },
        "id": "K4vV2roBnBWG",
        "outputId": "bed40692-65ec-45d3-f80e-35577d4acaf4"
      },
      "execution_count": null,
      "outputs": [
        {
          "output_type": "display_data",
          "data": {
            "text/plain": [
              "<Figure size 1000x800 with 1 Axes>"
            ],
            "image/png": "[encoded data removed]"
          },
          "metadata": {}
        }
      ]
    },
    {
      "cell_type": "code",
      "source": [
        "#######Uncontrolled\n",
        "y1 = np.array(power_uc_wpv_m)\n",
        "x_grouped = np.array(time)\n",
        "y_grouped1 = y1.reshape(-1, 12).mean(axis=1)\n",
        "\n",
        "\n",
        "plt.xticks(x_grouped[::2])\n",
        "# plt.yticks([0.0,0.5,1.0,1.5,2.0,2.5,3.0])\n",
        "plt.title(\"Uncontrolled without PV\")\n",
        "\n",
        "#######Controlled without pv\n",
        "y2 = np.array(power_c_wpv_m)\n",
        "\n",
        "# Aggregate data into groups of 12\n",
        "x_grouped = np.array(time)\n",
        "y_grouped2 = y2.reshape(-1, 12).mean(axis=1)\n",
        "\n",
        "\n",
        "#######Controlled with pv\n",
        "y3 = np.array(power_c_pv_m)\n",
        "y4 = np.array(power_c_pv_used_m)\n",
        "\n",
        "# Aggregate data into groups of 12\n",
        "x_grouped = np.array(time)\n",
        "y_grouped3 = y3.reshape(-1, 12).mean(axis=1)\n",
        "y_grouped4 = y4.reshape(-1, 12).mean(axis=1)\n",
        "\n",
        "########################################plt.rcParams[\"figure.figsize\"] = [12,10]\n",
        "\n",
        "plt.subplot(311)\n",
        "plt.bar(x_grouped, y_grouped1, color='b')\n",
        "# plt.title(\"Uncontrolled without PV\",fontweight=\"bold\")\n",
        "plt.xticks(x_grouped[::2])\n",
        "plt.yticks([0.0,1.0,2.0,3.0,4.0,5.0,6.0,7.0,8.0])\n",
        "# plt.ylabel(\"Power(kW)\")\n",
        "plt.text(0, 6, \"a\", fontsize=14,fontweight=\"bold\")\n",
        "\n",
        "plt.subplot(312)\n",
        "plt.bar(x_grouped, y_grouped2, color='b')\n",
        "# plt.title(\"Controlled without PV\",fontweight=\"bold\")\n",
        "plt.xticks(x_grouped[::2])\n",
        "plt.yticks([0.0,1.0,2.0,3.0,4.0,5.0,6.0,7.0,8.0])\n",
        "# plt.ylabel(\"Power(kW)\")\n",
        "plt.text(0, 6, \"b\", fontsize=14,fontweight=\"bold\")\n",
        "\n",
        "plt.subplot(313)\n",
        "plt.bar(x_grouped, y_grouped3, color='b')\n",
        "plt.bar(x_grouped, y_grouped4, bottom=y_grouped3, color='r')\n",
        "plt.legend([\"From Grid\", \"From Solar\"], fontsize=12)\n",
        "# plt.title(\"Controlled with PV\",fontweight=\"bold\")\n",
        "plt.xticks(x_grouped[::2])\n",
        "plt.yticks([0.0,1.0,2.0,3.0,4.0,5.0,6.0,7.0,8.0])\n",
        "plt.text(11.9, -1.5, 'Time(Hr)', ha='center', fontsize=14,fontweight=\"bold\")\n",
        "# plt.xlabel(\"Time(Hr)\")\n",
        "# plt.ylabel(\"Power(kW)\")\n",
        "plt.text(0, 6, \"c\", fontsize=14,fontweight=\"bold\")\n",
        "plt.text(-2, 11.9, 'Energy(kWh)', va='center', rotation='vertical', fontsize=14,fontweight=\"bold\")\n",
        "\n",
        "\n",
        "\n",
        "# Show the plot\n",
        "plt.show()"
      ],
      "metadata": {
        "colab": {
          "base_uri": "https://localhost:8080/",
          "height": 751
        },
        "id": "n5TTRa2InUcq",
        "outputId": "3c1e98c6-5e6d-42ca-ff96-74e7b7fbdff1"
      },
      "execution_count": null,
      "outputs": [
        {
          "output_type": "stream",
          "name": "stderr",
          "text": [
            "<ipython-input-34-9872aadfcd40>:30: MatplotlibDeprecationWarning: Auto-removal of overlapping axes is deprecated since 3.6 and will be removed two minor releases later; explicitly call ax.remove() as needed.\n",
            "  plt.subplot(311)\n"
          ]
        },
        {
          "output_type": "display_data",
          "data": {
            "text/plain": [
              "<Figure size 1000x800 with 3 Axes>"
            ],
            "image/png": "[encoded data removed]"
          },
          "metadata": {}
        }
      ]
    },
    {
      "cell_type": "markdown",
      "source": [
        "(a) Uncontrolled (b) Controlled without PV (c) Controlled with PV for Multiple charging rates."
      ],
      "metadata": {
        "id": "z8hlK2MpuWoa"
      }
    },
    {
      "cell_type": "code",
      "source": [
        "#Cost for a single vehicle #7\n",
        "\n",
        "total_cost_uc_wpv_m = 0\n",
        "total_cost_c_wpv_m = 0\n",
        "total_cost_c_pv_m = 0\n",
        "\n",
        "for i in range(len(power_uc_wpv_m)):\n",
        "  if power_uc_wpv_m[i] > 0:\n",
        "    total_cost_uc_wpv_m +=  cost_per_slot[7][i]\n",
        "\n",
        "for i in range(len(power_c_wpv_m)):\n",
        "  if power_c_wpv_m[i] > 0:\n",
        "    total_cost_c_wpv_m += cost_per_slot[7][i]\n",
        "\n",
        "for i in range(len(power_c_pv_m)):\n",
        "  if power_c_pv_m[i] > 0:\n",
        "    total_cost_c_pv_m += cost_per_slot[7][i]\n",
        "\n",
        "for i in range(len(power_c_pv_used_m)):\n",
        "  if power_c_pv_used_m[i] > 0:\n",
        "    total_cost_c_pv_m += (0.08/12)*7\n",
        "\n",
        "print(total_cost_uc_wpv_m,total_cost_c_wpv_m,total_cost_c_pv_m)"
      ],
      "metadata": {
        "colab": {
          "base_uri": "https://localhost:8080/"
        },
        "id": "CG_yuCRI_xOk",
        "outputId": "c343dbaa-45d7-4bde-ebd6-bc4180f434c9"
      },
      "execution_count": null,
      "outputs": [
        {
          "output_type": "stream",
          "name": "stdout",
          "text": [
            "4.135770000000005 3.1091400000000045 3.0799733333333377\n"
          ]
        }
      ]
    },
    {
      "cell_type": "code",
      "source": [
        "pv_total_m = 0\n",
        "\n",
        "for i in range(len(pv_per_slot)):\n",
        "  if pv_per_slot[i] > 0:\n",
        "    pv_total_m += pv_per_slot[i]*0.08/12\n",
        "\n",
        "print(pv_total_m)"
      ],
      "metadata": {
        "colab": {
          "base_uri": "https://localhost:8080/"
        },
        "id": "uYsjZdZqnf17",
        "outputId": "05ca02d1-b262-461d-c7ca-507b4ea5f93a"
      },
      "execution_count": null,
      "outputs": [
        {
          "output_type": "stream",
          "name": "stdout",
          "text": [
            "2.072880000000004\n"
          ]
        }
      ]
    },
    {
      "cell_type": "code",
      "source": [
        "#Cost for all vehicles\n",
        "\n",
        "all_cost_uc_wpv_m = 0\n",
        "all_cost_c_wpv_m = 0\n",
        "all_cost_c_pv_m = 0\n",
        "\n",
        "for vehicle in data_new_upd:\n",
        "  \n",
        "  power_uc_wpv_m = [0]*288\n",
        "  power_c_wpv_m = [0]*288\n",
        "  power_c_pv_m = [0]*288\n",
        "  power_c_pv_used_m = [0]*288\n",
        "\n",
        "  rate1 = min_slot_uc_wpv_diff_rates_m[vehicle]['rate']\n",
        "  rate2 = min_slot_c_wpv_diff_rates_m[vehicle]['rate']\n",
        "  rate3 = min_slot_c_pv_diff_rates[vehicle]['rate']\n",
        "\n",
        "\n",
        "  for i in final_min_slot_uc_wpv_diff_rates_m[vehicle]:\n",
        "    if i in timestamp:\n",
        "      index = timestamp.index(i)\n",
        "      power_uc_wpv_m[index] = min_slot_uc_wpv_diff_rates_m[vehicle]['rate']\n",
        "\n",
        "  for i in final_min_slot_c_wpv_diff_rates_m[vehicle]:\n",
        "    if i in timestamp:\n",
        "      index = timestamp.index(i)\n",
        "      power_c_wpv_m[index] = min_slot_c_wpv_diff_rates_m[vehicle]['rate']\n",
        "\n",
        "  for i in final_min_slot_c_pv_diff_rates_m[vehicle]:\n",
        "    if i in timestamp:\n",
        "      index = timestamp.index(i)\n",
        "      power_c_pv_m[index] = min_slot_c_pv_diff_rates[vehicle]['rate']\n",
        "\n",
        "  for i in final_pv_used_diff_rates_m[vehicle]:\n",
        "    if i in timestamp:\n",
        "      index = timestamp.index(i)\n",
        "      power_c_pv_used_m[index] = min_slot_c_pv_diff_rates[vehicle]['rate']\n",
        "\n",
        "  for i in range(len(power_uc_wpv_m)):\n",
        "    if power_uc_wpv_m[i] > 0:\n",
        "      all_cost_uc_wpv_m +=  cost_per_slot[rate1][i]\n",
        "\n",
        "  for i in range(len(power_c_wpv_m)):\n",
        "    if power_c_wpv_m[i] > 0:\n",
        "      all_cost_c_wpv_m +=  cost_per_slot[rate2][i]\n",
        "\n",
        "  for i in range(len(power_c_pv_m)):\n",
        "    if power_c_pv_m[i] > 0:\n",
        "      all_cost_c_pv_m += cost_per_slot[rate3][i]\n",
        "\n",
        "  for i in range(len(power_c_pv_used_m)):\n",
        "    if power_c_pv_used_m[i] > 0:\n",
        "      all_cost_c_pv_m += (0.08/12)*rate3\n",
        "\n",
        "print(f'UC_WPV : {all_cost_uc_wpv_m}, C_WPV : {all_cost_c_wpv_m}, C_PV : {all_cost_c_pv_m}, Solar profit from grid : {pv_total_m}, Overall_cost : {all_cost_c_pv_m-pv_total_m}')"
      ],
      "metadata": {
        "colab": {
          "base_uri": "https://localhost:8080/"
        },
        "id": "MeiptDWeDIYn",
        "outputId": "79f823bf-b800-4a08-f619-ad5b68bd30c5"
      },
      "execution_count": null,
      "outputs": [
        {
          "output_type": "stream",
          "name": "stdout",
          "text": [
            "UC_WPV : 164.78656999999703, C_WPV : 127.71476999999307, C_PV : 123.2856299999938, Solar profit from grid : 2.072880000000004, Overall_cost : 121.2127499999938\n"
          ]
        }
      ]
    },
    {
      "cell_type": "code",
      "source": [],
      "metadata": {
        "id": "SH9r3zdEU2Da"
      },
      "execution_count": null,
      "outputs": []
    }
  ]
}